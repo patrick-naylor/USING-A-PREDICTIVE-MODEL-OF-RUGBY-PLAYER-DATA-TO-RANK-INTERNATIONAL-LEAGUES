{
 "cells": [
  {
   "cell_type": "code",
   "execution_count": 164,
   "id": "564cc026",
   "metadata": {},
   "outputs": [],
   "source": [
    "import requests\n",
    "import lxml.html as lh\n",
    "import numpy as np\n",
    "from bs4 import BeautifulSoup\n",
    "from matplotlib import pyplot as plt\n",
    "\n",
    "#print(page.text)"
   ]
  },
  {
   "cell_type": "code",
   "execution_count": 165,
   "id": "ffd2b4d0",
   "metadata": {},
   "outputs": [],
   "source": [
    "#Generate league name csv\n",
    "leagues = ['top14', 'prod2', 'federale1', 'englandpremiership', 'pro14', 'englishchampionship', 'superrugby', 'itmcup', 'curriecup', 'urbatop14']\n",
    "league_name_arr = np.zeros((len(leagues), 10)).astype(str)\n",
    "\n",
    "for i in range(len(leagues)):\n",
    "    league_name_arr[i,:] = leagues[i]  "
   ]
  },
  {
   "cell_type": "code",
   "execution_count": 166,
   "id": "8a035562",
   "metadata": {},
   "outputs": [],
   "source": [
    "leagues = ['top14', 'prod2', 'federale1', 'englandpremiership', 'pro14', 'englishchampionship', 'superrugby', 'itmcup', 'curriecup', 'urbatop14']\n",
    "years = ['2011', '2012', '2013', '2014', '2015', '2016', '2017', '2018', '2019', '2020']\n",
    "for i in range(len(leagues)):\n",
    "    league_stats = {'tries_avg': [], 'tries_nb': [], 'conv_avg': [], 'conv_nb': [], 'pen_avg': [], 'pen_nb': [], 'dg_avg': [], 'dg_nb': []}\n",
    "    for j in range(len(years)):\n",
    "        URL = 'https://www.itsrugby.co.uk/stats-{league}-{year}.html'.format(league = leagues[i], year = years[j])\n",
    "        #rint(URL)\n",
    "        page = requests.get(URL)\n",
    "        soup = BeautifulSoup(page.text, \"html.parser\")\n",
    "        result_array = []\n",
    "        count = 0\n",
    "        if(len(list(soup.find_all('tr'))) <50 ):\n",
    "            league_name_arr[i,j] = 'error'\n",
    "\n",
    "    \n"
   ]
  },
  {
   "cell_type": "code",
   "execution_count": 167,
   "id": "df427782",
   "metadata": {
    "scrolled": false
   },
   "outputs": [
    {
     "name": "stdout",
     "output_type": "stream",
     "text": [
      "federale1 2013\n",
      "2 2\n",
      "1\n",
      "englandpremiership 2011\n",
      "3 0\n",
      "2\n",
      "englandpremiership 2012\n",
      "3 1\n",
      "3\n",
      "englandpremiership 2013\n",
      "3 2\n",
      "4\n",
      "englandpremiership 2014\n",
      "3 3\n",
      "5\n",
      "englandpremiership 2015\n",
      "3 4\n",
      "6\n",
      "englandpremiership 2016\n",
      "3 5\n",
      "7\n",
      "englandpremiership 2017\n",
      "3 6\n",
      "8\n",
      "englandpremiership 2018\n",
      "3 7\n",
      "9\n",
      "pro14 2011\n",
      "4 0\n",
      "10\n",
      "pro14 2012\n",
      "4 1\n",
      "11\n",
      "pro14 2013\n",
      "4 2\n",
      "12\n",
      "pro14 2014\n",
      "4 3\n",
      "13\n",
      "pro14 2015\n",
      "4 4\n",
      "14\n",
      "pro14 2016\n",
      "4 5\n",
      "15\n",
      "pro14 2017\n",
      "4 6\n",
      "16\n",
      "pro14 2018\n",
      "4 7\n",
      "17\n",
      "englishchampionship 2016\n",
      "5 5\n",
      "18\n",
      "englishchampionship 2017\n",
      "5 6\n",
      "19\n",
      "englishchampionship 2018\n",
      "5 7\n",
      "20\n",
      "englishchampionship 2019\n",
      "5 8\n",
      "21\n",
      "englishchampionship 2020\n",
      "5 9\n",
      "22\n",
      "itmcup 2019\n",
      "7 8\n",
      "23\n",
      "itmcup 2020\n",
      "7 9\n",
      "24\n",
      "urbatop14 2016\n",
      "9 5\n",
      "25\n",
      "urbatop14 2017\n",
      "9 6\n",
      "26\n",
      "urbatop14 2018\n",
      "9 7\n",
      "27\n",
      "urbatop14 2019\n",
      "9 8\n",
      "28\n",
      "urbatop14 2020\n",
      "9 9\n",
      "29\n"
     ]
    }
   ],
   "source": [
    "x_error = []\n",
    "y_error = []\n",
    "count = 0\n",
    "for i in range(league_name_arr.shape[0]):\n",
    "    for j in range(league_name_arr.shape[1]):\n",
    "        if(league_name_arr[i,j] == 'error'):\n",
    "            print(leagues[i], years[j])\n",
    "            print(i,j)\n",
    "            x_error.append(i)\n",
    "            y_error.append(j)\n",
    "            count += 1\n",
    "            print(count)"
   ]
  },
  {
   "cell_type": "code",
   "execution_count": 168,
   "id": "c3a8be6e",
   "metadata": {},
   "outputs": [
    {
     "name": "stdout",
     "output_type": "stream",
     "text": [
      "[2, 3, 3, 3, 3, 3, 3, 3, 3, 4, 4, 4, 4, 4, 4, 4, 4, 5, 5, 5, 5, 5, 7, 7, 9, 9, 9, 9, 9]\n"
     ]
    }
   ],
   "source": [
    "print(x_error)"
   ]
  },
  {
   "cell_type": "code",
   "execution_count": 179,
   "id": "772c6115",
   "metadata": {},
   "outputs": [],
   "source": [
    "error_fixes = ['federale1', 'avivapremiership', 'avivapremiership', 'avivapremiership', 'avivapremiership', 'avivapremiership','avivapremiership', 'avivapremiership', 'premiershiprugby', 'rabodirect12', 'rabodirect12', 'rabodirect12', 'guinesspro12', 'guinesspro12', 'pro12rugby', 'guinesspro14', 'guinesspro14', 'angleterred21', 'angleterred21', 'englandchampionship', 'englandd1', 'englandd1', 'mitre10cup', 'mitre10cup', 'urbatop12', 'urbatop12', 'urbatop12', 'error', 'urbatop12']\n",
    "for i in range(len(error_fixes)):\n",
    "    league_name_arr[x_error[i], y_error[i]] = error_fixes[i]\n"
   ]
  },
  {
   "cell_type": "code",
   "execution_count": 170,
   "id": "adf5c5a5",
   "metadata": {},
   "outputs": [
    {
     "name": "stdout",
     "output_type": "stream",
     "text": [
      "[['top14' 'top14' 'top14' 'top14' 'top14' 'top14' 'top14' 'top14' 'top14'\n",
      "  'top14']\n",
      " ['prod2' 'prod2' 'prod2' 'prod2' 'prod2' 'prod2' 'prod2' 'prod2' 'prod2'\n",
      "  'prod2']\n",
      " ['federale1' 'federale1' 'federale1' 'federale1' 'federale1' 'federale1'\n",
      "  'federale1' 'federale1' 'federale1' 'federale1']\n",
      " ['avivapremiership' 'avivapremiership' 'avivapremiership'\n",
      "  'avivapremiership' 'avivapremiership' 'avivapremiership'\n",
      "  'avivapremiership' 'premiershiprugby' 'englandpremiership'\n",
      "  'englandpremiership']\n",
      " ['rabodirect12' 'rabodirect12' 'rabodirect12' 'guinesspro12'\n",
      "  'guinesspro12' 'pro12rugby' 'guinesspro14' 'guinesspro14' 'pro14'\n",
      "  'pro14']\n",
      " ['englishchampionship' 'englishchampionship' 'englishchampionship'\n",
      "  'englishchampionship' 'englishchampionship' 'angleterred21'\n",
      "  'angleterred21' 'englandchampionship' 'englandd1' 'englandd1']\n",
      " ['superrugby' 'superrugby' 'superrugby' 'superrugby' 'superrugby'\n",
      "  'superrugby' 'superrugby' 'superrugby' 'superrugby' 'superrugby']\n",
      " ['itmcup' 'itmcup' 'itmcup' 'itmcup' 'itmcup' 'itmcup' 'itmcup' 'itmcup'\n",
      "  'mitre10cup' 'mitre10cup']\n",
      " ['curriecup' 'curriecup' 'curriecup' 'curriecup' 'curriecup' 'curriecup'\n",
      "  'curriecup' 'curriecup' 'curriecup' 'curriecup']\n",
      " ['urbatop14' 'urbatop14' 'urbatop14' 'urbatop14' 'urbatop14' 'urbatop12'\n",
      "  'urbatop12' 'urbatop12' 'urbatop12' 'urbatop12']]\n"
     ]
    }
   ],
   "source": [
    "print(league_name_arr[:,:])"
   ]
  },
  {
   "cell_type": "code",
   "execution_count": 180,
   "id": "c70ec880",
   "metadata": {},
   "outputs": [
    {
     "name": "stdout",
     "output_type": "stream",
     "text": [
      "[559.0, 3.07, 352.0, 1.93, 207.0, 1.13, 449.0, 2.46, 283.0, 1.55, 166.0, 0.91, 1157.0, 6.35, 672.0, 3.69, 485.0, 2.66, 60.0, 0.32, 30.0, 0.16, 30.0, 0.16]\n",
      "[653.0, 3.58, 417.0, 2.29, 236.0, 1.29, 518.0, 2.84, 341.0, 1.87, 177.0, 0.97, 1148.0, 6.3, 660.0, 3.62, 488.0, 2.68, 59.0, 0.32, 29.0, 0.15, 30.0, 0.16]\n",
      "[600.0, 3.29, 417.0, 2.29, 183.0, 1.0, 455.0, 2.5, 318.0, 1.74, 137.0, 0.75, 1111.0, 6.1, 621.0, 3.41, 490.0, 2.69, 52.0, 0.28, 27.0, 0.14, 25.0, 0.13]\n",
      "[724.0, 3.97, 479.0, 2.63, 245.0, 1.34, 540.0, 2.96, 352.0, 1.93, 188.0, 1.03, 1053.0, 5.78, 562.0, 3.08, 491.0, 2.69, 42.0, 0.23, 15.0, 0.08, 27.0, 0.14]\n",
      "[824.0, 4.52, 517.0, 2.84, 307.0, 1.68, 617.0, 3.39, 384.0, 2.1, 233.0, 1.28, 976.0, 5.36, 526.0, 2.89, 450.0, 2.47, 19.0, 0.1, 9.0, 0.04, 10.0, 0.05]\n",
      "[853.0, 4.68, 528.0, 2.9, 325.0, 1.78, 671.0, 3.68, 425.0, 2.33, 246.0, 1.35, 1026.0, 5.63, 571.0, 3.13, 455.0, 2.5, 24.0, 0.13, 17.0, 0.09, 7.0, 0.03]\n",
      "[973.0, 5.34, 600.0, 3.29, 373.0, 2.04, 754.0, 4.14, 480.0, 2.63, 274.0, 1.5, 787.0, 4.32, 444.0, 2.43, 343.0, 1.88, 14.0, 0.07, 10.0, 0.05, 4.0, 0.02]\n",
      "[936.0, 5.14, 571.0, 3.13, 365.0, 2.0, 721.0, 3.96, 436.0, 2.39, 285.0, 1.56, 795.0, 4.36, 432.0, 2.37, 363.0, 1.99, 16.0, 0.08, 3.0, 0.01, 13.0, 0.07]\n",
      "[541.0, 2.97, 319.0, 1.75, 222.0, 1.21, 431.0, 2.36, 260.0, 1.42, 171.0, 0.93, 614.0, 3.37, 350.0, 1.92, 264.0, 1.45, 3.0, 0.01, 3.0, 0.01, nan, 0.0]\n",
      "[931.0, 5.11, 549.0, 3.01, 382.0, 2.09, 731.0, 4.01, 450.0, 2.47, 281.0, 1.54, 1013.0, 5.56, 533.0, 2.92, 480.0, 2.63, 13.0, 0.07, 8.0, 0.04, 5.0, 0.02]\n",
      "[681.0, 2.83, 442.0, 1.84, 239.0, 0.99, 500.0, 2.08, 310.0, 1.29, 190.0, 0.79, 1603.0, 6.67, 901.0, 3.75, 702.0, 2.92, 85.0, 0.35, 42.0, 0.17, 43.0, 0.17]\n",
      "[817.0, 3.4, 508.0, 2.11, 309.0, 1.28, 596.0, 2.48, 390.0, 1.62, 206.0, 0.85, 1588.0, 6.61, 900.0, 3.75, 688.0, 2.86, 54.0, 0.22, 26.0, 0.1, 28.0, 0.11]\n",
      "[878.0, 3.65, 561.0, 2.33, 317.0, 1.32, 642.0, 2.67, 415.0, 1.72, 227.0, 0.94, 1410.0, 5.87, 785.0, 3.27, 625.0, 2.6, 37.0, 0.15, 17.0, 0.07, 20.0, 0.08]\n",
      "[942.0, 3.92, 608.0, 2.53, 334.0, 1.39, 716.0, 2.98, 461.0, 1.92, 255.0, 1.06, 1374.0, 5.72, 790.0, 3.29, 584.0, 2.43, 37.0, 0.15, 18.0, 0.07, 19.0, 0.07]\n",
      "[1000.0, 4.16, 623.0, 2.59, 377.0, 1.57, 734.0, 3.05, 451.0, 1.87, 283.0, 1.17, 1224.0, 5.09, 687.0, 2.86, 537.0, 2.23, 22.0, 0.09, 11.0, 0.04, 11.0, 0.04]\n",
      "[1042.0, 4.34, 685.0, 2.85, 357.0, 1.48, 810.0, 3.37, 532.0, 2.21, 278.0, 1.15, 1331.0, 5.54, 716.0, 2.98, 615.0, 2.56, 18.0, 0.07, 6.0, 0.02, 12.0, 0.05]\n",
      "[1152.0, 4.8, 723.0, 3.01, 429.0, 1.78, 888.0, 3.7, 565.0, 2.35, 323.0, 1.34, 1138.0, 4.74, 627.0, 2.61, 511.0, 2.12, 23.0, 0.09, 13.0, 0.05, 10.0, 0.04]\n",
      "[1035.0, 4.31, 669.0, 2.78, 366.0, 1.52, 770.0, 3.2, 504.0, 2.1, 266.0, 1.1, 1195.0, 4.97, 674.0, 2.8, 521.0, 2.17, 16.0, 0.06, 7.0, 0.02, 9.0, 0.03]\n",
      "[722.0, 3.0, 458.0, 1.9, 264.0, 1.1, 564.0, 2.35, 361.0, 1.5, 203.0, 0.84, 984.0, 4.09, 545.0, 2.27, 439.0, 1.82, 21.0, 0.08, 6.0, 0.02, 15.0, 0.06]\n",
      "[948.0, 3.95, 558.0, 2.32, 390.0, 1.62, 745.0, 3.1, 449.0, 1.87, 296.0, 1.23, 1345.0, 5.6, 689.0, 2.87, 656.0, 2.73, 23.0, 0.09, 15.0, 0.06, 8.0, 0.03]\n",
      "[1280.0, 3.55, 731.0, 2.03, 549.0, 1.52, 905.0, 2.51, 531.0, 1.47, 374.0, 1.03, 1962.0, 5.45, 1093.0, 3.03, 869.0, 2.41, 118.0, 0.32, 54.0, 0.15, 64.0, 0.17]\n",
      "[1252.0, 3.47, 802.0, 2.22, 450.0, 1.25, 915.0, 2.54, 593.0, 1.64, 322.0, 0.89, 2171.0, 6.03, 1184.0, 3.28, 987.0, 2.74, 93.0, 0.25, 47.0, 0.13, 46.0, 0.12]\n",
      "[]\n",
      "https://www.itsrugby.co.uk/stats-federale1-2013.html\n",
      "https://www.itsrugby.co.uk/stats-federale1-2013.html\n",
      "https://www.itsrugby.co.uk/stats-federale1-2013.html\n",
      "https://www.itsrugby.co.uk/stats-federale1-2013.html\n",
      "https://www.itsrugby.co.uk/stats-federale1-2013.html\n",
      "https://www.itsrugby.co.uk/stats-federale1-2013.html\n",
      "https://www.itsrugby.co.uk/stats-federale1-2013.html\n",
      "https://www.itsrugby.co.uk/stats-federale1-2013.html\n",
      "[1398.0, 3.88, 870.0, 2.41, 528.0, 1.46, 1050.0, 2.91, 663.0, 1.84, 387.0, 1.07, 1805.0, 5.01, 966.0, 2.68, 839.0, 2.33, 91.0, 0.25, 42.0, 0.11, 49.0, 0.13]\n",
      "[1581.0, 4.39, 1004.0, 2.78, 577.0, 1.6, 1178.0, 3.27, 752.0, 2.08, 426.0, 1.18, 1548.0, 4.3, 816.0, 2.26, 732.0, 2.03, 52.0, 0.14, 25.0, 0.06, 27.0, 0.07]\n",
      "[1605.0, 4.37, 996.0, 2.71, 609.0, 1.65, 1185.0, 3.22, 753.0, 2.05, 432.0, 1.17, 1738.0, 4.73, 913.0, 2.48, 825.0, 2.24, 48.0, 0.13, 25.0, 0.06, 23.0, 0.06]\n",
      "[1903.0, 4.32, 1190.0, 2.7, 713.0, 1.62, 1404.0, 3.19, 883.0, 2.0, 521.0, 1.18, 1915.0, 4.35, 1060.0, 2.4, 855.0, 1.94, 49.0, 0.11, 22.0, 0.05, 27.0, 0.06]\n",
      "[2532.0, 5.0, 1572.0, 3.1, 960.0, 1.89, 1893.0, 3.74, 1173.0, 2.31, 720.0, 1.42, 2095.0, 4.14, 1126.0, 2.22, 969.0, 1.91, 48.0, 0.09, 28.0, 0.05, 20.0, 0.03]\n",
      "[1991.0, 3.77, 1212.0, 2.29, 779.0, 1.47, 1494.0, 2.82, 912.0, 1.72, 582.0, 1.1, 1778.0, 3.36, 946.0, 1.79, 832.0, 1.57, 29.0, 0.05, 9.0, 0.01, 20.0, 0.03]\n",
      "[337.0, 0.72, 202.0, 0.43, 135.0, 0.29, 252.0, 0.54, 154.0, 0.33, 98.0, 0.21, 491.0, 1.06, 261.0, 0.56, 230.0, 0.49, 6.0, 0.01, 1.0, 0.0, 5.0, 0.01]\n",
      "[488.0, 3.69, 273.0, 2.06, 215.0, 1.62, 343.0, 2.59, 190.0, 1.43, 153.0, 1.15, 752.0, 5.69, 404.0, 3.06, 348.0, 2.63, 24.0, 0.18, 11.0, 0.08, 13.0, 0.09]\n",
      "[526.0, 3.98, 307.0, 2.32, 219.0, 1.65, 369.0, 2.79, 215.0, 1.62, 154.0, 1.16, 805.0, 6.09, 427.0, 3.23, 378.0, 2.86, 13.0, 0.09, 7.0, 0.05, 6.0, 0.04]\n",
      "[564.0, 4.27, 315.0, 2.38, 249.0, 1.88, 388.0, 2.93, 211.0, 1.59, 177.0, 1.34, 607.0, 4.59, 302.0, 2.28, 305.0, 2.31, 13.0, 0.09, 5.0, 0.03, 8.0, 0.06]\n",
      "[693.0, 5.25, 394.0, 2.98, 299.0, 2.26, 496.0, 3.75, 282.0, 2.13, 214.0, 1.62, 617.0, 4.67, 346.0, 2.62, 271.0, 2.05, 8.0, 0.06, 5.0, 0.03, 3.0, 0.02]\n",
      "[613.0, 4.64, 340.0, 2.57, 273.0, 2.06, 430.0, 3.25, 241.0, 1.82, 189.0, 1.43, 575.0, 4.35, 305.0, 2.31, 270.0, 2.04, 4.0, 0.03, 3.0, 0.02, 1.0, 0.0]\n",
      "[726.0, 5.5, 409.0, 3.09, 317.0, 2.4, 543.0, 4.11, 298.0, 2.25, 245.0, 1.85, 512.0, 3.87, 273.0, 2.06, 239.0, 1.81, 9.0, 0.06, 4.0, 0.03, 5.0, 0.03]\n",
      "[773.0, 5.85, 416.0, 3.15, 357.0, 2.7, 562.0, 4.25, 307.0, 2.32, 255.0, 1.93, 450.0, 3.4, 248.0, 1.87, 202.0, 1.53, 7.0, 0.05, 4.0, 0.03, 3.0, 0.02]\n",
      "[738.0, 5.59, 418.0, 3.16, 320.0, 2.42, 564.0, 4.27, 316.0, 2.39, 248.0, 1.87, 488.0, 3.69, 261.0, 1.97, 227.0, 1.71, 2.0, 0.01, nan, 0.0, 2.0, 0.01]\n",
      "[744.0, 5.63, 423.0, 3.2, 321.0, 2.43, 546.0, 4.13, 310.0, 2.34, 236.0, 1.78, 420.0, 3.18, 223.0, 1.68, 197.0, 1.49, 5.0, 0.03, 2.0, 0.01, 3.0, 0.02]\n",
      "[755.0, 5.71, 405.0, 3.06, 350.0, 2.65, 560.0, 4.24, 309.0, 2.34, 251.0, 1.9, 367.0, 2.78, 202.0, 1.53, 165.0, 1.25, 3.0, 0.02, 1.0, 0.0, 2.0, 0.01]\n",
      "[464.0, 3.51, 285.0, 2.15, 179.0, 1.35, 330.0, 2.5, 206.0, 1.56, 124.0, 0.93, 698.0, 5.28, 371.0, 2.81, 327.0, 2.47, 26.0, 0.19, 11.0, 0.08, 15.0, 0.11]\n",
      "[526.0, 3.98, 306.0, 2.31, 220.0, 1.66, 391.0, 2.96, 225.0, 1.7, 166.0, 1.25, 577.0, 4.37, 321.0, 2.43, 256.0, 1.93, 25.0, 0.18, 17.0, 0.12, 8.0, 0.06]\n",
      "[525.0, 3.97, 301.0, 2.28, 224.0, 1.69, 404.0, 3.06, 231.0, 1.75, 173.0, 1.31, 626.0, 4.74, 340.0, 2.57, 286.0, 2.16, 16.0, 0.12, 9.0, 0.06, 7.0, 0.05]\n",
      "[575.0, 4.35, 332.0, 2.51, 243.0, 1.84, 417.0, 3.15, 240.0, 1.81, 177.0, 1.34, 547.0, 4.14, 309.0, 2.34, 238.0, 1.8, 5.0, 0.03, 3.0, 0.02, 2.0, 0.01]\n",
      "[601.0, 4.55, 345.0, 2.61, 256.0, 1.93, 418.0, 3.16, 239.0, 1.81, 179.0, 1.35, 495.0, 3.75, 271.0, 2.05, 224.0, 1.69, 10.0, 0.07, 5.0, 0.03, 5.0, 0.03]\n",
      "[711.0, 5.38, 420.0, 3.18, 291.0, 2.2, 541.0, 4.09, 322.0, 2.43, 219.0, 1.65, 361.0, 2.73, 181.0, 1.37, 180.0, 1.36, 11.0, 0.08, 5.0, 0.03, 6.0, 0.04]\n",
      "[859.0, 5.84, 513.0, 3.48, 346.0, 2.35, 621.0, 4.22, 375.0, 2.55, 246.0, 1.67, 434.0, 2.95, 231.0, 1.57, 203.0, 1.38, 5.0, 0.03, 2.0, 0.01, 3.0, 0.02]\n",
      "[880.0, 5.98, 522.0, 3.55, 358.0, 2.43, 661.0, 4.49, 403.0, 2.74, 258.0, 1.75, 322.0, 2.19, 169.0, 1.14, 153.0, 1.04, 5.0, 0.03, 3.0, 0.02, 2.0, 0.01]\n",
      "[589.0, 5.71, 365.0, 3.54, 224.0, 2.17, 448.0, 4.34, 277.0, 2.68, 171.0, 1.66, 255.0, 2.47, 131.0, 1.27, 124.0, 1.2, 1.0, 0.0, 1.0, 0.0, nan, 0.0]\n",
      "[509.0, 5.35, 266.0, 2.8, 243.0, 2.55, 384.0, 4.04, 206.0, 2.16, 178.0, 1.87, 266.0, 2.8, 136.0, 1.43, 130.0, 1.36, 2.0, 0.02, nan, 0.0, 2.0, 0.02]\n",
      "[666.0, 5.04, 349.0, 2.64, 317.0, 2.4, 469.0, 3.55, 246.0, 1.86, 223.0, 1.68, 549.0, 4.15, 317.0, 2.4, 232.0, 1.75, 28.0, 0.21, 19.0, 0.14, 9.0, 0.06]\n",
      "[682.0, 5.16, 387.0, 2.93, 295.0, 2.23, 484.0, 3.66, 274.0, 2.07, 210.0, 1.59, 536.0, 4.06, 287.0, 2.17, 249.0, 1.88, 9.0, 0.06, 3.0, 0.02, 6.0, 0.04]\n"
     ]
    },
    {
     "name": "stdout",
     "output_type": "stream",
     "text": [
      "[779.0, 5.64, 441.0, 3.19, 338.0, 2.44, 540.0, 3.91, 310.0, 2.24, 230.0, 1.66, 516.0, 3.73, 249.0, 1.8, 267.0, 1.93, 4.0, 0.02, 2.0, 0.01, 2.0, 0.01]\n",
      "[784.0, 5.93, 425.0, 3.21, 359.0, 2.71, 520.0, 3.93, 289.0, 2.18, 231.0, 1.75, 411.0, 3.11, 198.0, 1.5, 213.0, 1.61, 7.0, 0.05, 5.0, 0.03, 2.0, 0.01]\n",
      "[819.0, 6.2, 432.0, 3.27, 387.0, 2.93, 573.0, 4.34, 313.0, 2.37, 260.0, 1.96, 372.0, 2.81, 193.0, 1.46, 179.0, 1.35, 11.0, 0.08, 5.0, 0.03, 6.0, 0.04]\n",
      "[787.0, 6.39, 404.0, 3.28, 383.0, 3.11, 536.0, 4.35, 281.0, 2.28, 255.0, 2.07, 326.0, 2.65, 170.0, 1.38, 156.0, 1.26, 12.0, 0.09, 4.0, 0.03, 8.0, 0.06]\n",
      "[931.0, 7.05, 493.0, 3.73, 438.0, 3.31, 675.0, 5.11, 368.0, 2.78, 307.0, 2.32, 350.0, 2.65, 186.0, 1.4, 164.0, 1.24, 4.0, 0.03, 3.0, 0.02, 1.0, 0.0]\n",
      "[917.0, 6.94, 481.0, 3.64, 436.0, 3.3, 645.0, 4.88, 338.0, 2.56, 307.0, 2.32, 253.0, 1.91, 139.0, 1.05, 114.0, 0.86, 5.0, 0.03, 2.0, 0.01, 3.0, 0.02]\n",
      "[525.0, 3.97, 282.0, 2.13, 243.0, 1.84, 367.0, 2.78, 199.0, 1.5, 168.0, 1.27, 206.0, 1.56, 108.0, 0.81, 98.0, 0.74, 0.0, 0.0, nan, 0.0, nan, 0.0]\n",
      "[413.0, 7.5, 216.0, 3.92, 197.0, 3.58, 291.0, 5.29, 150.0, 2.72, 141.0, 2.56, 93.0, 1.69, 39.0, 0.7, 54.0, 0.98, 0.0, 0.0, nan, 0.0, nan, 0.0]\n",
      "[591.0, 4.92, 310.0, 2.58, 281.0, 2.34, 448.0, 3.73, 238.0, 1.98, 210.0, 1.75, 664.0, 5.53, 371.0, 3.09, 293.0, 2.44, 12.0, 0.1, 6.0, 0.05, 6.0, 0.05]\n",
      "[580.0, 4.83, 321.0, 2.67, 259.0, 2.15, 418.0, 3.48, 235.0, 1.95, 183.0, 1.52, 639.0, 5.32, 340.0, 2.83, 299.0, 2.49, 8.0, 0.06, 2.0, 0.01, 6.0, 0.05]\n",
      "[587.0, 4.89, 341.0, 2.84, 246.0, 2.04, 446.0, 3.71, 251.0, 2.09, 195.0, 1.62, 637.0, 5.3, 357.0, 2.97, 280.0, 2.33, 21.0, 0.17, 15.0, 0.12, 6.0, 0.05]\n",
      "[610.0, 5.08, 320.0, 2.66, 290.0, 2.41, 443.0, 3.69, 240.0, 2.0, 203.0, 1.69, 491.0, 4.09, 248.0, 2.06, 243.0, 2.02, 10.0, 0.08, 1.0, 0.0, 9.0, 0.07]\n",
      "[869.0, 6.43, 472.0, 3.49, 397.0, 2.94, 622.0, 4.6, 341.0, 2.52, 281.0, 2.08, 478.0, 3.54, 252.0, 1.86, 226.0, 1.67, 8.0, 0.05, 5.0, 0.03, 3.0, 0.02]\n",
      "[942.0, 6.97, 513.0, 3.8, 429.0, 3.17, 686.0, 5.08, 374.0, 2.77, 312.0, 2.31, 429.0, 3.17, 225.0, 1.66, 204.0, 1.51, 3.0, 0.02, 1.0, 0.0, 2.0, 0.01]\n",
      "[878.0, 7.31, 481.0, 4.0, 397.0, 3.3, 669.0, 5.57, 365.0, 3.04, 304.0, 2.53, 315.0, 2.62, 167.0, 1.39, 148.0, 1.23, 1.0, 0.0, 1.0, 0.0, nan, 0.0]\n",
      "[781.0, 6.5, 420.0, 3.5, 361.0, 3.0, 577.0, 4.8, 308.0, 2.56, 269.0, 2.24, 314.0, 2.61, 150.0, 1.25, 164.0, 1.36, 4.0, 0.03, 1.0, 0.0, 3.0, 0.02]\n",
      "[319.0, 2.68, 177.0, 1.48, 142.0, 1.19, 219.0, 1.84, 122.0, 1.02, 97.0, 0.81, 104.0, 0.87, 49.0, 0.41, 55.0, 0.46, 3.0, 0.02, 1.0, 0.0, 2.0, 0.01]\n",
      "[217.0, 8.68, 114.0, 4.55, 103.0, 4.12, 165.0, 6.6, 87.0, 3.48, 78.0, 3.12, 29.0, 1.15, 11.0, 0.44, 18.0, 0.72, 0.0, 0.0, nan, 0.0, nan, 0.0]\n",
      "[370.0, 5.28, 209.0, 2.98, 161.0, 2.29, 261.0, 3.72, 146.0, 2.08, 115.0, 1.64, 346.0, 4.94, 188.0, 2.68, 158.0, 2.25, 6.0, 0.08, 4.0, 0.05, 2.0, 0.02]\n",
      "[402.0, 5.74, 220.0, 3.14, 182.0, 2.6, 296.0, 4.22, 162.0, 2.31, 134.0, 1.91, 333.0, 4.75, 177.0, 2.52, 156.0, 2.22, 1.0, 0.01, 1.0, 0.01, nan, 0.0]\n",
      "[391.0, 5.58, 223.0, 3.18, 168.0, 2.4, 284.0, 4.05, 158.0, 2.25, 126.0, 1.8, 340.0, 4.85, 175.0, 2.5, 165.0, 2.35, 2.0, 0.02, 1.0, 0.01, 1.0, 0.01]\n",
      "[415.0, 5.92, 235.0, 3.35, 180.0, 2.57, 311.0, 4.44, 175.0, 2.5, 136.0, 1.94, 302.0, 4.31, 156.0, 2.22, 146.0, 2.08, 5.0, 0.07, 5.0, 0.07, nan, 0.0]\n",
      "[460.0, 6.57, 220.0, 3.14, 240.0, 3.42, 340.0, 4.85, 157.0, 2.24, 183.0, 2.61, 250.0, 3.57, 126.0, 1.8, 124.0, 1.77, 2.0, 0.02, 1.0, 0.01, 1.0, 0.01]\n",
      "[497.0, 7.1, 275.0, 3.92, 222.0, 3.17, 369.0, 5.27, 207.0, 2.95, 162.0, 2.31, 283.0, 4.04, 149.0, 2.12, 134.0, 1.91, 2.0, 0.02, 1.0, 0.01, 1.0, 0.01]\n",
      "[535.0, 7.64, 292.0, 4.17, 243.0, 3.47, 397.0, 5.67, 216.0, 3.08, 181.0, 2.58, 197.0, 2.81, 103.0, 1.47, 94.0, 1.34, 1.0, 0.01, nan, 0.0, 1.0, 0.01]\n",
      "[553.0, 7.9, 278.0, 3.97, 275.0, 3.92, 408.0, 5.82, 206.0, 2.94, 202.0, 2.88, 119.0, 1.7, 59.0, 0.84, 60.0, 0.85, 1.0, 0.01, nan, 0.0, 1.0, 0.01]\n",
      "[533.0, 7.61, 302.0, 4.31, 231.0, 3.3, 368.0, 5.25, 205.0, 2.92, 163.0, 2.32, 126.0, 1.8, 60.0, 0.85, 66.0, 0.94, 0.0, 0.0, nan, 0.0, nan, 0.0]\n",
      "[460.0, 6.57, 250.0, 3.57, 210.0, 3.0, 323.0, 4.61, 177.0, 2.52, 146.0, 2.08, 171.0, 2.44, 101.0, 1.44, 70.0, 1.0, 2.0, 0.02, 1.0, 0.01, 1.0, 0.01]\n",
      "[369.0, 6.58, 202.0, 3.6, 167.0, 2.98, 280.0, 5.0, 155.0, 2.76, 125.0, 2.23, 264.0, 4.71, 148.0, 2.64, 116.0, 2.07, 17.0, 0.3, 6.0, 0.1, 11.0, 0.19]\n",
      "[164.0, 5.46, 89.0, 2.96, 75.0, 2.5, 124.0, 4.13, 67.0, 2.23, 57.0, 1.9, 185.0, 6.16, 112.0, 3.73, 73.0, 2.43, 8.0, 0.26, 2.0, 0.06, 6.0, 0.2]\n",
      "[163.0, 5.43, 84.0, 2.8, 79.0, 2.63, 118.0, 3.93, 60.0, 2.0, 58.0, 1.93, 156.0, 5.2, 75.0, 2.5, 81.0, 2.7, 6.0, 0.2, 1.0, 0.03, 5.0, 0.16]\n",
      "[242.0, 6.05, 137.0, 3.42, 105.0, 2.62, 186.0, 4.65, 104.0, 2.6, 82.0, 2.04, 191.0, 4.77, 88.0, 2.2, 103.0, 2.57, 4.0, 0.1, 3.0, 0.07, 1.0, 0.02]\n",
      "[268.0, 6.7, 137.0, 3.42, 131.0, 3.27, 208.0, 5.2, 104.0, 2.6, 104.0, 2.6, 175.0, 4.37, 93.0, 2.32, 82.0, 2.04, 3.0, 0.07, 1.0, 0.02, 2.0, 0.05]\n",
      "[303.0, 8.41, 158.0, 4.38, 145.0, 4.02, 230.0, 6.38, 123.0, 3.41, 107.0, 2.97, 113.0, 3.13, 60.0, 1.66, 53.0, 1.47, 4.0, 0.11, 2.0, 0.05, 2.0, 0.05]\n",
      "[363.0, 8.64, 207.0, 4.92, 156.0, 3.71, 276.0, 6.57, 153.0, 3.64, 123.0, 2.92, 95.0, 2.26, 56.0, 1.33, 39.0, 0.92, 3.0, 0.07, 3.0, 0.07, nan, 0.0]\n",
      "[185.0, 8.8, 96.0, 4.57, 89.0, 4.23, 154.0, 7.33, 80.0, 3.8, 74.0, 3.52, 29.0, 1.38, 16.0, 0.76, 13.0, 0.61, 0.0, 0.0, nan, 0.0, nan, 0.0]\n",
      "[162.0, 7.71, 89.0, 4.23, 73.0, 3.47, 121.0, 5.76, 62.0, 2.95, 59.0, 2.8, 58.0, 2.76, 22.0, 1.04, 36.0, 1.71, 2.0, 0.09, 1.0, 0.04, 1.0, 0.04]\n",
      "[105.0, 5.0, 67.0, 3.19, 38.0, 1.8, 75.0, 3.57, 45.0, 2.14, 30.0, 1.42, 93.0, 4.42, 46.0, 2.19, 47.0, 2.23, 0.0, 0.0, nan, 0.0, nan, 0.0]\n",
      "[501.0, 5.5, 275.0, 3.02, 226.0, 2.48, 316.0, 3.47, 183.0, 2.01, 133.0, 1.46, 292.0, 3.2, 149.0, 1.63, 143.0, 1.57, 19.0, 0.2, 9.0, 0.09, 10.0, 0.1]\n",
      "[541.0, 5.94, 264.0, 2.9, 277.0, 3.04, 346.0, 3.8, 173.0, 1.9, 173.0, 1.9, 294.0, 3.23, 127.0, 1.39, 167.0, 1.83, 12.0, 0.13, 6.0, 0.06, 6.0, 0.06]\n",
      "[481.0, 5.28, 242.0, 2.65, 239.0, 2.62, 344.0, 3.78, 167.0, 1.83, 177.0, 1.94, 313.0, 3.43, 154.0, 1.69, 159.0, 1.74, 17.0, 0.18, 8.0, 0.08, 9.0, 0.09]\n",
      "[511.0, 5.61, 270.0, 2.96, 241.0, 2.64, 358.0, 3.93, 203.0, 2.23, 155.0, 1.7, 385.0, 4.23, 171.0, 1.87, 214.0, 2.35, 15.0, 0.16, 10.0, 0.1, 5.0, 0.05]\n",
      "[501.0, 5.5, 279.0, 3.06, 222.0, 2.43, 350.0, 3.84, 198.0, 2.17, 152.0, 1.67, 338.0, 3.71, 166.0, 1.82, 172.0, 1.89, 15.0, 0.16, 9.0, 0.09, 6.0, 0.06]\n",
      "[845.0, 6.4, 445.0, 3.37, 400.0, 3.03, 594.0, 4.5, 315.0, 2.38, 279.0, 2.11, 378.0, 2.86, 179.0, 1.35, 199.0, 1.5, 20.0, 0.15, 9.0, 0.06, 11.0, 0.08]\n",
      "[870.0, 6.59, 430.0, 3.25, 440.0, 3.33, 616.0, 4.66, 306.0, 2.31, 310.0, 2.34, 344.0, 2.6, 161.0, 1.21, 183.0, 1.38, 14.0, 0.1, 7.0, 0.05, 7.0, 0.05]\n",
      "[834.0, 6.31, 434.0, 3.28, 400.0, 3.03, 614.0, 4.65, 314.0, 2.37, 300.0, 2.27, 419.0, 3.17, 201.0, 1.52, 218.0, 1.65, 19.0, 0.14, 9.0, 0.06, 10.0, 0.07]\n",
      "[]\n",
      "https://www.itsrugby.co.uk/stats-error-2019.html\n",
      "https://www.itsrugby.co.uk/stats-error-2019.html\n",
      "https://www.itsrugby.co.uk/stats-error-2019.html\n",
      "https://www.itsrugby.co.uk/stats-error-2019.html\n",
      "https://www.itsrugby.co.uk/stats-error-2019.html\n",
      "https://www.itsrugby.co.uk/stats-error-2019.html\n",
      "https://www.itsrugby.co.uk/stats-error-2019.html\n",
      "https://www.itsrugby.co.uk/stats-error-2019.html\n",
      "[441.0, 6.68, 235.0, 3.56, 206.0, 3.12, 304.0, 4.6, 157.0, 2.37, 147.0, 2.22, 199.0, 3.01, 103.0, 1.56, 96.0, 1.45, 3.0, 0.04, 1.0, 0.01, 2.0, 0.03]\n"
     ]
    }
   ],
   "source": [
    "from bs4 import BeautifulSoup\n",
    "leagues_10yr_stats = {}\n",
    "years = ['2011', '2012', '2013', '2014', '2015', '2016', '2017', '2018', '2019', '2020']\n",
    "result_ind = [1,0,7,6,13,12,19,18]\n",
    "result_stat = ['tries_avg', 'tries_nb', 'conv_avg', 'conv_nb', 'pen_avg', 'pen_nb', 'dg_avg', 'dg_nb']\n",
    "for i in range(len(leagues)):\n",
    "    league_stats = {'tries_avg': [], 'tries_nb': [], 'conv_avg': [], 'conv_nb': [], 'pen_avg': [], 'pen_nb': [], 'dg_avg': [], 'dg_nb': []}\n",
    "    for j in range(len(years)):\n",
    "        URL = 'https://www.itsrugby.co.uk/stats-{league}-{year}.html'.format(league = league_name_arr[i,j], year = years[j])\n",
    "        #rint(URL)\n",
    "        page = requests.get(URL)\n",
    "        soup = BeautifulSoup(page.text, \"html.parser\")\n",
    "        result_array = []\n",
    "        count = 0\n",
    "        for result in soup.find_all('tr'):\n",
    "            #print(len(list(result)))\n",
    "            for result2 in result.find_all('td', attrs = {\"align\": \"center\", \"id\": \"noir\"}):\n",
    "                #print(len(list(result2.contents)))\n",
    "                if (count>7 and count <32):\n",
    "                    #print(result2.contents)\n",
    "                    try:\n",
    "                        result_array.append(float(result2.contents[0]))\n",
    "                    except: \n",
    "                        result_array.append(np.nan)\n",
    "                count+=1\n",
    "        print(result_array)\n",
    "        for k in range(8):\n",
    "            try:\n",
    "                league_stats[result_stat[k]].append(result_array[result_ind[k]])\n",
    "            except IndexError: \n",
    "                league_stats[result_stat[k]].append(np.nan)\n",
    "                print(URL)\n",
    "    leagues_10yr_stats[leagues[i]] = league_stats"
   ]
  },
  {
   "cell_type": "code",
   "execution_count": 185,
   "id": "f1570862",
   "metadata": {},
   "outputs": [
    {
     "data": {
      "text/plain": [
       "<matplotlib.legend.Legend at 0x249a18ca0d0>"
      ]
     },
     "execution_count": 185,
     "metadata": {},
     "output_type": "execute_result"
    },
    {
     "data": {
      "image/png": "[encoded data removed]",
      "text/plain": [
       "<Figure size 432x288 with 1 Axes>"
      ]
     },
     "metadata": {
      "needs_background": "light"
     },
     "output_type": "display_data"
    }
   ],
   "source": [
    "#print(leagues_10yr_stats)\n",
    "for key, value in leagues_10yr_stats.items():\n",
    "    plt.plot(value['pen_avg'])\n",
    "#plt.labels = leagues_10yr_stats.keys()\n",
    "plt.legend(leagues_10yr_stats.keys())"
   ]
  },
  {
   "cell_type": "code",
   "execution_count": 174,
   "id": "42a9cc07",
   "metadata": {},
   "outputs": [
    {
     "name": "stdout",
     "output_type": "stream",
     "text": [
      "<class 'float'>\n"
     ]
    }
   ],
   "source": [
    "print(type(np.nan))"
   ]
  }
 ],
 "metadata": {
  "kernelspec": {
   "display_name": "Python 3",
   "language": "python",
   "name": "python3"
  },
  "language_info": {
   "codemirror_mode": {
    "name": "ipython",
    "version": 3
   },
   "file_extension": ".py",
   "mimetype": "text/x-python",
   "name": "python",
   "nbconvert_exporter": "python",
   "pygments_lexer": "ipython3",
   "version": "3.8.3"
  }
 },
 "nbformat": 4,
 "nbformat_minor": 5
}
