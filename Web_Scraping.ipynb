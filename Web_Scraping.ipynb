{
 "cells": [
  {
   "cell_type": "code",
   "execution_count": 8,
   "id": "a9b6df4d",
   "metadata": {},
   "outputs": [],
   "source": [
    "import requests\n",
    "import lxml.html as lh\n",
    "URL = 'https://www.itsrugby.co.uk/result-top14-2021.html'\n",
    "page = requests.get(URL)\n",
    "#print(page.text)"
   ]
  },
  {
   "cell_type": "code",
   "execution_count": 10,
   "id": "7045be77",
   "metadata": {
    "scrolled": true
   },
   "outputs": [
    {
     "name": "stdout",
     "output_type": "stream",
     "text": [
      "[1, 1, 12, 12, 12, 12, 12, 12, 12, 24, 24, 24]\n"
     ]
    }
   ],
   "source": [
    "doc = lh.fromstring(page.content)\n",
    "tr_elements = doc.xpath('//tr')\n",
    "print([len(T) for T in tr_elements[:12]])"
   ]
  },
  {
   "cell_type": "code",
   "execution_count": 39,
   "id": "957e5862",
   "metadata": {
    "scrolled": true
   },
   "outputs": [
    {
     "name": "stdout",
     "output_type": "stream",
     "text": [
      " \n"
     ]
    }
   ],
   "source": [
    "print(str(tr_elements[10].text_content()).strip())\n",
    "#print(type(str(tr_elements[10].text_content())))"
   ]
  },
  {
   "cell_type": "code",
   "execution_count": 43,
   "id": "79e2c1c7",
   "metadata": {
    "scrolled": true
   },
   "outputs": [
    {
     "name": "stdout",
     "output_type": "stream",
     "text": [
      " 1   Castres76 26 17 1 8 565 529 365 1 24 \n",
      " 2   Montpellier74 26 15 2 9 619 503 1164 6 22 \n",
      " 3   Union Bordeaux Bègles72 26 15 1 10 610 484 1265 5 20 \n",
      " 4   Stade Toulousain71 26 15 0 11 638 432 2066 5 19 \n",
      " 5   La Rochelle71 26 15 0 11 640 466 1746 5 19 \n",
      " 6   Racing 9270 26 16 0 10 661 568 934 2 18 \n",
      " 7   Clermont66 26 14 0 12 649 557 926 4 14 \n",
      " 8   Toulon65 26 13 2 11 572 504 685 4 13 \n",
      " 9   LOU64 26 13 0 13 637 558 796 6 12 \n",
      " 10   Pau50 26 11 1 14 568 664 -961 3 -2 \n",
      " 11   Stade Français50 26 11 0 15 544 651 -1072 4 -2 \n",
      " 12   Brive46 26 9 1 16 453 631 -1784 4 -6 \n",
      " 13   USAP43 26 9 0 17 491 664 -1732 5 -9 \n",
      " 14   Biarritz24 26 5 0 21 449 885 -4361 3 -28 \n"
     ]
    }
   ],
   "source": [
    "for i in range(14):\n",
    "    print(str(tr_elements[10+i].text_content()).replace('\\n', '').replace('   ', '').replace('  ',' '))"
   ]
  },
  {
   "cell_type": "code",
   "execution_count": 5,
   "id": "b23462a0",
   "metadata": {},
   "outputs": [],
   "source": [
    "from bs4 import BeautifulSoup\n",
    "soup = BeautifulSoup(page.content, \"html.parser\")\n",
    "games = soup.find(id='bleu_bold')"
   ]
  },
  {
   "cell_type": "code",
   "execution_count": 6,
   "id": "94fd24b5",
   "metadata": {},
   "outputs": [
    {
     "name": "stdout",
     "output_type": "stream",
     "text": [
      "<td align=\"center\" id=\"bleu_bold\" valign=\"middle\">\n",
      " <a href=\"game-211232.html\" id=\"bleu_bold\" style=\"text-decoration: underline\">\n",
      "  20-15\n",
      " </a>\n",
      "</td>\n",
      "\n"
     ]
    }
   ],
   "source": [
    "print(games.prettify())"
   ]
  }
 ],
 "metadata": {
  "kernelspec": {
   "display_name": "Python 3",
   "language": "python",
   "name": "python3"
  },
  "language_info": {
   "codemirror_mode": {
    "name": "ipython",
    "version": 3
   },
   "file_extension": ".py",
   "mimetype": "text/x-python",
   "name": "python",
   "nbconvert_exporter": "python",
   "pygments_lexer": "ipython3",
   "version": "3.8.3"
  }
 },
 "nbformat": 4,
 "nbformat_minor": 5
}
